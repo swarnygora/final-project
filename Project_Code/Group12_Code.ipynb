{
  "nbformat": 4,
  "nbformat_minor": 0,
  "metadata": {
    "colab": {
      "provenance": [],
      "authorship_tag": "ABX9TyN4MsifsgmvmkEZJaLEt4qT",
      "include_colab_link": true
    },
    "kernelspec": {
      "name": "python3",
      "display_name": "Python 3"
    },
    "language_info": {
      "name": "python"
    }
  },
  "cells": [
    {
      "cell_type": "markdown",
      "metadata": {
        "id": "view-in-github",
        "colab_type": "text"
      },
      "source": [
        "<a href=\"https://colab.research.google.com/github/swarnygora/final-project/blob/main/Project_Code/Group12_Code.ipynb\" target=\"_parent\"><img src=\"https://colab.research.google.com/assets/colab-badge.svg\" alt=\"Open In Colab\"/></a>"
      ]
    },
    {
      "cell_type": "code",
      "execution_count": 3,
      "metadata": {
        "colab": {
          "base_uri": "https://localhost:8080/",
          "height": 393
        },
        "id": "Gdrvs_SwDm_X",
        "outputId": "7bdf34e4-f826-44a6-b400-6fb8284da2dc"
      },
      "outputs": [
        {
          "output_type": "error",
          "ename": "ModuleNotFoundError",
          "evalue": "No module named 'mne'",
          "traceback": [
            "\u001b[0;31m---------------------------------------------------------------------------\u001b[0m",
            "\u001b[0;31mModuleNotFoundError\u001b[0m                       Traceback (most recent call last)",
            "\u001b[0;32m<ipython-input-3-131cf184bbe4>\u001b[0m in \u001b[0;36m<cell line: 0>\u001b[0;34m()\u001b[0m\n\u001b[1;32m      3\u001b[0m \u001b[0;31m# Group 12\u001b[0m\u001b[0;34m\u001b[0m\u001b[0;34m\u001b[0m\u001b[0m\n\u001b[1;32m      4\u001b[0m \u001b[0;34m\u001b[0m\u001b[0m\n\u001b[0;32m----> 5\u001b[0;31m \u001b[0;32mimport\u001b[0m \u001b[0mmne\u001b[0m\u001b[0;34m\u001b[0m\u001b[0;34m\u001b[0m\u001b[0m\n\u001b[0m\u001b[1;32m      6\u001b[0m \u001b[0;32mimport\u001b[0m \u001b[0mnumpy\u001b[0m \u001b[0;32mas\u001b[0m \u001b[0mnp\u001b[0m\u001b[0;34m\u001b[0m\u001b[0;34m\u001b[0m\u001b[0m\n\u001b[1;32m      7\u001b[0m \u001b[0;32mimport\u001b[0m \u001b[0mpandas\u001b[0m \u001b[0;32mas\u001b[0m \u001b[0mpd\u001b[0m\u001b[0;34m\u001b[0m\u001b[0;34m\u001b[0m\u001b[0m\n",
            "\u001b[0;31mModuleNotFoundError\u001b[0m: No module named 'mne'",
            "",
            "\u001b[0;31m---------------------------------------------------------------------------\u001b[0;32m\nNOTE: If your import is failing due to a missing package, you can\nmanually install dependencies using either !pip or !apt.\n\nTo view examples of installing some common dependencies, click the\n\"Open Examples\" button below.\n\u001b[0;31m---------------------------------------------------------------------------\u001b[0m\n"
          ],
          "errorDetails": {
            "actions": [
              {
                "action": "open_url",
                "actionText": "Open Examples",
                "url": "/notebooks/snippets/importing_libraries.ipynb"
              }
            ]
          }
        }
      ],
      "source": [
        "# Group12_Code.ipynb\n",
        "# BME 3053C Final Project: Sleep Stage Classification\n",
        "# Group 12\n",
        "\n",
        "import mne\n",
        "import numpy as np\n",
        "import pandas as pd\n",
        "from sklearn.model_selection import train_test_split\n",
        "from sklearn.preprocessing import StandardScaler\n",
        "import tensorflow as tf\n",
        "from tensorflow.keras.models import Sequential\n",
        "from tensorflow.keras.layers import Conv1D, MaxPooling1D, Flatten, Dense, Dropout\n",
        "import matplotlib.pyplot as plt\n",
        "\n",
        "# Step 1: Load and preprocess EEG data\n",
        "def load_eeg_data(file_path):\n",
        "    \"\"\"Load EEG data from .edf file using MNE.\"\"\"\n",
        "    raw = mne.io.read_raw_edf(file_path, preload=True)\n",
        "    raw.filter(0.5, 40)  # Bandpass filter (0.5-40 Hz)\n",
        "    return raw\n",
        "\n",
        "def extract_epochs(raw, annotations, epoch_length=30):\n",
        "    \"\"\"Extract 30-second epochs and corresponding sleep stage labels.\"\"\"\n",
        "    events, event_id = mne.events_from_annotations(raw)\n",
        "    epochs = mne.Epochs(raw, events, event_id, tmin=0, tmax=epoch_length-1, baseline=None)\n",
        "    labels = [annotations[i] for i in events[:, 2]]  # Map events to sleep stages\n",
        "    return epochs.get_data(), labels\n",
        "\n",
        "# Step 2: Prepare dataset\n",
        "data_files = ['path/to/SC4001E0-PSG.edf']  # Replace with your subset paths\n",
        "annotations_files = ['path/to/SC4001EC-Hypnogram.edf']\n",
        "X, y = [], []\n",
        "for data_file, annot_file in zip(data_files, annotations_files):\n",
        "    raw = load_eeg_data(data_file)\n",
        "    annotations = mne.read_annotations(annot_file)\n",
        "    epochs, labels = extract_epochs(raw, annotations)\n",
        "    X.append(epochs)\n",
        "    y.extend(labels)\n",
        "\n",
        "X = np.concatenate(X, axis=0)  # Shape: (n_epochs, n_channels, n_samples)\n",
        "y = np.array(y)  # Sleep stage labels (e.g., Wake, N1, N2, N3, REM)\n",
        "\n",
        "# Step 3: Preprocess data\n",
        "scaler = StandardScaler()\n",
        "X = scaler.fit_transform(X.reshape(-1, X.shape[-1])).reshape(X.shape)\n",
        "\n",
        "# Encode labels (e.g., Wake=0, N1=1, N2=2, N3=3, REM=4)\n",
        "from sklearn.preprocessing import LabelEncoder\n",
        "encoder = LabelEncoder()\n",
        "y = encoder.fit_transform(y)\n",
        "\n",
        "# Split data\n",
        "X_train, X_test, y_train, y_test = train_test_split(X, y, test_size=0.2, random_state=42)\n",
        "\n",
        "# Step 4: Build CNN model\n",
        "model = Sequential([\n",
        "    Conv1D(filters=64, kernel_size=3, activation='relu', input_shape=(X.shape[1], X.shape[2])),\n",
        "    MaxPooling1D(pool_size=2),\n",
        "    Conv1D(filters=128, kernel_size=3, activation='relu'),\n",
        "    MaxPooling1D(pool_size=2),\n",
        "    Flatten(),\n",
        "    Dense(128, activation='relu'),\n",
        "    Dropout(0.5),\n",
        "    Dense(5, activation='softmax')  # 5 sleep stages\n",
        "])\n",
        "\n",
        "model.compile(optimizer='adam', loss='sparse_categorical_crossentropy', metrics=['accuracy'])\n",
        "\n",
        "# Step 5: Train model\n",
        "history = model.fit(X_train, y_train, epochs=10, batch_size=32, validation_data=(X_test, y_test))\n",
        "\n",
        "# Step 6: Evaluate model\n",
        "test_loss, test_acc = model.evaluate(X_test, y_test)\n",
        "print(f\"Test Accuracy: {test_acc:.4f}\")\n",
        "\n",
        "# Step 7: Visualize results\n",
        "plt.plot(history.history['accuracy'], label='Training Accuracy')\n",
        "plt.plot(history.history['val_accuracy'], label='Validation Accuracy')\n",
        "plt.title('Model Accuracy')\n",
        "plt.xlabel('Epoch')\n",
        "plt.ylabel('Accuracy')\n",
        "plt.legend()\n",
        "plt.savefig('accuracy_plot.png')\n",
        "plt.show()\n",
        "\n",
        "# Step 8: Save model\n",
        "model.save('sleep_stage_model.h5')\n",
        "\n",
        "# Demo: Predict on a sample\n",
        "sample = X_test[0:1]\n",
        "prediction = model.predict(sample)\n",
        "predicted_stage = encoder.inverse_transform([np.argmax(prediction)])\n",
        "print(f\"Predicted Sleep Stage: {predicted_stage[0]}\")"
      ]
    }
  ]
}